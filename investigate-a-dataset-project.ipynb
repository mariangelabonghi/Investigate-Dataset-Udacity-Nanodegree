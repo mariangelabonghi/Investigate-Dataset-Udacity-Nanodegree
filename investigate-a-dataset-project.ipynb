{
 "cells": [
  {
   "cell_type": "markdown",
   "metadata": {},
   "source": [
    "# Project: Investigate Dataset \"No-show appointments\"\n",
    "\n",
    "## Table of Contents\n",
    "<ul>\n",
    "<li><a href=\"#intro\">Introduction</a></li>\n",
    "<li><a href=\"#wrangling\">Data Wrangling</a></li>\n",
    "<li><a href=\"#eda\">Exploratory Data Analysis</a></li>\n",
    "<li><a href=\"#conclusions\">Conclusions</a></li>\n",
    "</ul>"
   ]
  },
  {
   "cell_type": "markdown",
   "metadata": {},
   "source": [
    "<a id='intro'></a>\n",
    "## Introduction\n",
    "\n",
    "This dataset[1] collects information from 100k medical appointments in Brazil and is focused on the question of whether or not patients show up for their appointment.\n",
    "\n",
    "The investigation of the dataset will be focused on the following points:\n",
    "- In the dataset we can see different characteristics about the patient such as hypertension, diabet, alcoholism, handicap, scholarship[2] and gender. There is also the information regarding the reception or not of an SMS used to remember the appointment to the patient. A first analisys is focused on which of mentioned characteristics majorly have impact on the fact that the patient showed up or not his appointment;\n",
    "- The number of days between the day in which the appointment is fixed and the day of the appointment, can have an influence on fact that the patient showed up or not his appointment?\n",
    "- Are there location[3] of the hospital that majorly involved on the missing appointments?\n",
    "\n",
    "[1]original source on [Kaggle](https://www.kaggle.com/joniarroba/noshowappointment)\\\n",
    "[2]‘Scholarship’ indicates whether or not the patient is enrolled in Brasilian welfare program Bolsa Família\\\n",
    "[3]‘Neighborhood’ indicates the location of the hospital."
   ]
  },
  {
   "cell_type": "markdown",
   "metadata": {},
   "source": [
    "### Import statements for the packages that are going to be used"
   ]
  },
  {
   "cell_type": "code",
   "execution_count": 213,
   "metadata": {
    "scrolled": false
   },
   "outputs": [],
   "source": [
    "import pandas as pd\n",
    "import numpy as np\n",
    "import seaborn as sns\n",
    "import matplotlib.pyplot as plt\n",
    "%matplotlib inline"
   ]
  },
  {
   "cell_type": "markdown",
   "metadata": {},
   "source": [
    "<a id='wrangling'></a>\n",
    "## Data Wrangling\n",
    "In this section we load the data and see the general structure of the dataset. If necessary, we will take some actions on the data in order to prepare them for the analisys.\n",
    "\n",
    "\n",
    "### General Properties"
   ]
  },
  {
   "cell_type": "code",
   "execution_count": 212,
   "metadata": {},
   "outputs": [
    {
     "data": {
      "text/html": [
       "<div>\n",
       "<style scoped>\n",
       "    .dataframe tbody tr th:only-of-type {\n",
       "        vertical-align: middle;\n",
       "    }\n",
       "\n",
       "    .dataframe tbody tr th {\n",
       "        vertical-align: top;\n",
       "    }\n",
       "\n",
       "    .dataframe thead th {\n",
       "        text-align: right;\n",
       "    }\n",
       "</style>\n",
       "<table border=\"1\" class=\"dataframe\">\n",
       "  <thead>\n",
       "    <tr style=\"text-align: right;\">\n",
       "      <th></th>\n",
       "      <th>PatientId</th>\n",
       "      <th>AppointmentID</th>\n",
       "      <th>Gender</th>\n",
       "      <th>ScheduledDay</th>\n",
       "      <th>AppointmentDay</th>\n",
       "      <th>Age</th>\n",
       "      <th>Neighbourhood</th>\n",
       "      <th>Scholarship</th>\n",
       "      <th>Hipertension</th>\n",
       "      <th>Diabetes</th>\n",
       "      <th>Alcoholism</th>\n",
       "      <th>Handcap</th>\n",
       "      <th>SMS_received</th>\n",
       "      <th>No-show</th>\n",
       "    </tr>\n",
       "  </thead>\n",
       "  <tbody>\n",
       "    <tr>\n",
       "      <th>0</th>\n",
       "      <td>2.987250e+13</td>\n",
       "      <td>5642903</td>\n",
       "      <td>F</td>\n",
       "      <td>2016-04-29T18:38:08Z</td>\n",
       "      <td>2016-04-29T00:00:00Z</td>\n",
       "      <td>62</td>\n",
       "      <td>JARDIM DA PENHA</td>\n",
       "      <td>0</td>\n",
       "      <td>1</td>\n",
       "      <td>0</td>\n",
       "      <td>0</td>\n",
       "      <td>0</td>\n",
       "      <td>0</td>\n",
       "      <td>No</td>\n",
       "    </tr>\n",
       "  </tbody>\n",
       "</table>\n",
       "</div>"
      ],
      "text/plain": [
       "      PatientId  AppointmentID Gender          ScheduledDay  \\\n",
       "0  2.987250e+13        5642903      F  2016-04-29T18:38:08Z   \n",
       "\n",
       "         AppointmentDay  Age    Neighbourhood  Scholarship  Hipertension  \\\n",
       "0  2016-04-29T00:00:00Z   62  JARDIM DA PENHA            0             1   \n",
       "\n",
       "   Diabetes  Alcoholism  Handcap  SMS_received No-show  \n",
       "0         0           0        0             0      No  "
      ]
     },
     "execution_count": 212,
     "metadata": {},
     "output_type": "execute_result"
    }
   ],
   "source": [
    "# Read dataset\n",
    "appointments=pd.read_csv('no_show_appointments.csv')\n",
    "appointments.head(1)"
   ]
  },
  {
   "cell_type": "code",
   "execution_count": 188,
   "metadata": {},
   "outputs": [
    {
     "data": {
      "text/plain": [
       "(110527, 14)"
      ]
     },
     "execution_count": 188,
     "metadata": {},
     "output_type": "execute_result"
    }
   ],
   "source": [
    "#number of samples and number of columns\n",
    "appointments.shape"
   ]
  },
  {
   "cell_type": "code",
   "execution_count": 189,
   "metadata": {
    "scrolled": true
   },
   "outputs": [
    {
     "name": "stdout",
     "output_type": "stream",
     "text": [
      "<class 'pandas.core.frame.DataFrame'>\n",
      "RangeIndex: 110527 entries, 0 to 110526\n",
      "Data columns (total 14 columns):\n",
      " #   Column          Non-Null Count   Dtype  \n",
      "---  ------          --------------   -----  \n",
      " 0   PatientId       110527 non-null  float64\n",
      " 1   AppointmentID   110527 non-null  int64  \n",
      " 2   Gender          110527 non-null  object \n",
      " 3   ScheduledDay    110527 non-null  object \n",
      " 4   AppointmentDay  110527 non-null  object \n",
      " 5   Age             110527 non-null  int64  \n",
      " 6   Neighbourhood   110527 non-null  object \n",
      " 7   Scholarship     110527 non-null  int64  \n",
      " 8   Hipertension    110527 non-null  int64  \n",
      " 9   Diabetes        110527 non-null  int64  \n",
      " 10  Alcoholism      110527 non-null  int64  \n",
      " 11  Handcap         110527 non-null  int64  \n",
      " 12  SMS_received    110527 non-null  int64  \n",
      " 13  No-show         110527 non-null  object \n",
      "dtypes: float64(1), int64(8), object(5)\n",
      "memory usage: 11.8+ MB\n"
     ]
    }
   ],
   "source": [
    "#General information about data: there are no missing values.\n",
    "appointments.info()"
   ]
  },
  {
   "cell_type": "code",
   "execution_count": 190,
   "metadata": {},
   "outputs": [
    {
     "data": {
      "text/plain": [
       "0"
      ]
     },
     "execution_count": 190,
     "metadata": {},
     "output_type": "execute_result"
    }
   ],
   "source": [
    "#check for duplicated columns in the dataset: there are no duplicates in the dataset\n",
    "appointments.duplicated().sum()"
   ]
  },
  {
   "cell_type": "markdown",
   "metadata": {},
   "source": [
    "The previous information show that there are no missing values and no duplicates values in the dataset. We change the name of the columns:\n",
    "- \"No-show\" to \"No_show\" to avoid issue on commands;\n",
    "- \"Scholarship\" to \"Bolsa_Familia_Program\" just to remember the meaning of the column:"
   ]
  },
  {
   "cell_type": "code",
   "execution_count": 214,
   "metadata": {},
   "outputs": [],
   "source": [
    "appointments = appointments.rename(columns={'No-show': 'No_show'})\n",
    "appointments = appointments.rename(columns={'Scholarship': 'Bolsa_Familia_Program'})"
   ]
  },
  {
   "cell_type": "code",
   "execution_count": 215,
   "metadata": {
    "scrolled": true
   },
   "outputs": [
    {
     "data": {
      "text/plain": [
       "PatientId                float64\n",
       "AppointmentID              int64\n",
       "Gender                    object\n",
       "ScheduledDay              object\n",
       "AppointmentDay            object\n",
       "Age                        int64\n",
       "Neighbourhood             object\n",
       "Bolsa_Familia_Program      int64\n",
       "Hipertension               int64\n",
       "Diabetes                   int64\n",
       "Alcoholism                 int64\n",
       "Handcap                    int64\n",
       "SMS_received               int64\n",
       "No_show                   object\n",
       "dtype: object"
      ]
     },
     "execution_count": 215,
     "metadata": {},
     "output_type": "execute_result"
    }
   ],
   "source": [
    "#datatypes of columns\n",
    "appointments.dtypes"
   ]
  },
  {
   "cell_type": "code",
   "execution_count": 194,
   "metadata": {
    "scrolled": true
   },
   "outputs": [
    {
     "data": {
      "text/plain": [
       "(str, str, str, str, str)"
      ]
     },
     "execution_count": 194,
     "metadata": {},
     "output_type": "execute_result"
    }
   ],
   "source": [
    "#datatypes of \"object\" columns\n",
    "type(appointments['Gender'][0]),\\\n",
    "type(appointments['ScheduledDay'][0]),\\\n",
    "type(appointments['AppointmentDay'][0]),\\\n",
    "type(appointments['Neighbourhood'][0]),\\\n",
    "type(appointments['No_show'][0])"
   ]
  },
  {
   "cell_type": "markdown",
   "metadata": {},
   "source": [
    "The \"AppointmentDay\" and the \"ScheduledDay\" columns are string.\n",
    "We change the datatype in a datetime format:"
   ]
  },
  {
   "cell_type": "code",
   "execution_count": 216,
   "metadata": {},
   "outputs": [],
   "source": [
    "#change the datatype of ScheduledDay and AppointmentDay columns \n",
    "appointments['ScheduledDay'] = pd.to_datetime(appointments['ScheduledDay'])\n",
    "appointments['AppointmentDay'] = pd.to_datetime(appointments['AppointmentDay'])"
   ]
  },
  {
   "cell_type": "code",
   "execution_count": 217,
   "metadata": {
    "scrolled": true
   },
   "outputs": [
    {
     "data": {
      "text/plain": [
       "(array(['F', 'M'], dtype=object),\n",
       " array([0, 1]),\n",
       " array([1, 0]),\n",
       " array([0, 1]),\n",
       " array([0, 1]),\n",
       " array([0, 1, 2, 3, 4]),\n",
       " array([0, 1]),\n",
       " array(['No', 'Yes'], dtype=object))"
      ]
     },
     "execution_count": 217,
     "metadata": {},
     "output_type": "execute_result"
    }
   ],
   "source": [
    "#exploring values in some columns of the dataset\n",
    "appointments['Gender'].unique(),\\\n",
    "appointments['Bolsa_Familia_Program'].unique(),\\\n",
    "appointments['Hipertension'].unique(),\\\n",
    "appointments['Diabetes'].unique(),\\\n",
    "appointments['Alcoholism'].unique(),\\\n",
    "appointments['Handcap'].unique(),\\\n",
    "appointments['SMS_received'].unique(),\\\n",
    "appointments['No_show'].unique()"
   ]
  },
  {
   "cell_type": "markdown",
   "metadata": {},
   "source": [
    "From the above information:\n",
    "- Gender has two possible values: \"F\" for female and \"M\" for male.\n",
    "- The columns \"Bolsa_Familia_Program\", \"Hipertension\", \"Diabetes\", \"Alcoholism\" and \"SMS_received\":\n",
    "  have two possible values \"0\" and \"1\". We assume that 1 stands for True and \"0\" for False.\n",
    "- The column \"Handcap\" has five possible values from 0 to 4. We assume that it indicates the hadicap's gravity\n",
    "   from 0: \"None\" to 4: \"Very high\" gravity of handicap. To better analyze the data for this column, we change \n",
    "   the datatype in string:"
   ]
  },
  {
   "cell_type": "code",
   "execution_count": 218,
   "metadata": {},
   "outputs": [],
   "source": [
    "appointments['Handcap'] = appointments['Handcap'].astype(str)"
   ]
  },
  {
   "cell_type": "markdown",
   "metadata": {},
   "source": [
    "### Data Cleaning:  set values for \"Handcap\" and \"No-show\" columns"
   ]
  },
  {
   "cell_type": "markdown",
   "metadata": {},
   "source": [
    "In this section we change some data in order to simplify the analisys process of the data.\n",
    "The first modification is related to the No_show column. If the value of this column is \"Yes\" means that \n",
    "the patient didn't show up his appointment and \"No\" viceversa. In order to avoid confusion, we change the\n",
    "value \"Yes\" with \"Not showed up\" and the value \"No\" with \"Showed up\":"
   ]
  },
  {
   "cell_type": "code",
   "execution_count": 219,
   "metadata": {},
   "outputs": [],
   "source": [
    "appointments.No_show.replace('Yes', 'Not Showed up', inplace=True)\n",
    "appointments.No_show.replace('No', 'Showed up', inplace=True)"
   ]
  },
  {
   "cell_type": "markdown",
   "metadata": {},
   "source": [
    "We have seen that the \"Handcap\" column has four possible values from 0 to 4. Assuming that these values indicate the gravity of handicap, to better analize this variable we replace the value of the column as follows:\n",
    "- from \"0\" to \"None\";\n",
    "- from \"1\" to \"Low\";\n",
    "- from \"2\" to \"Medium\";\n",
    "- from \"3\" to \"High\";\n",
    "- from \"4\" to \"Very High\":"
   ]
  },
  {
   "cell_type": "code",
   "execution_count": 220,
   "metadata": {},
   "outputs": [],
   "source": [
    "appointments.Handcap.replace('0', 'None', inplace=True)\n",
    "appointments.Handcap.replace('1', 'Low', inplace=True)\n",
    "appointments.Handcap.replace('2', 'Medium', inplace=True)\n",
    "appointments.Handcap.replace('3', 'High', inplace=True)\n",
    "appointments.Handcap.replace('4', 'Very High', inplace=True)"
   ]
  },
  {
   "cell_type": "markdown",
   "metadata": {},
   "source": [
    "<a id='eda'></a>\n",
    "## Exploratory Data Analysis\n",
    "In this section we will explore the data trying answering the reasearch questions listed in the \"Introduction\" section of this document.\n",
    "\n",
    "### Question1: Which of the following characteristics seem to have a major impact on the fact that the patient showed up or not to his appointment: Hypertension, Diabet, Alcoholism, Handcap, SMS received, Gender and subscription to Bolsa Familia program?"
   ]
  },
  {
   "cell_type": "markdown",
   "metadata": {},
   "source": [
    "We split the original dataset in two parts: \n",
    "- \"no_showup_appointments\" with all the data of appointments in which the patient DIDN'T showed up;\n",
    "- \"showup_appointments\" with all the data of appointments in which the patient showed up:"
   ]
  },
  {
   "cell_type": "code",
   "execution_count": 221,
   "metadata": {
    "scrolled": true
   },
   "outputs": [],
   "source": [
    "no_showup_appointments=appointments.query('No_show == \"Not Showed up\"')\n",
    "showup_appointments=appointments.query('No_show == \"Showed up\"')"
   ]
  },
  {
   "cell_type": "markdown",
   "metadata": {},
   "source": [
    "We see some statistical properties of the datasets: \"no_showup_appointments\" and \"showup_appointments\""
   ]
  },
  {
   "cell_type": "code",
   "execution_count": 203,
   "metadata": {
    "scrolled": false
   },
   "outputs": [
    {
     "data": {
      "text/html": [
       "<div>\n",
       "<style scoped>\n",
       "    .dataframe tbody tr th:only-of-type {\n",
       "        vertical-align: middle;\n",
       "    }\n",
       "\n",
       "    .dataframe tbody tr th {\n",
       "        vertical-align: top;\n",
       "    }\n",
       "\n",
       "    .dataframe thead th {\n",
       "        text-align: right;\n",
       "    }\n",
       "</style>\n",
       "<table border=\"1\" class=\"dataframe\">\n",
       "  <thead>\n",
       "    <tr style=\"text-align: right;\">\n",
       "      <th></th>\n",
       "      <th>PatientId</th>\n",
       "      <th>AppointmentID</th>\n",
       "      <th>Age</th>\n",
       "      <th>Bolsa_Familia_Program</th>\n",
       "      <th>Hipertension</th>\n",
       "      <th>Diabetes</th>\n",
       "      <th>Alcoholism</th>\n",
       "      <th>SMS_received</th>\n",
       "    </tr>\n",
       "  </thead>\n",
       "  <tbody>\n",
       "    <tr>\n",
       "      <th>count</th>\n",
       "      <td>2.231900e+04</td>\n",
       "      <td>2.231900e+04</td>\n",
       "      <td>22319.000000</td>\n",
       "      <td>22319.000000</td>\n",
       "      <td>22319.000000</td>\n",
       "      <td>22319.000000</td>\n",
       "      <td>22319.000000</td>\n",
       "      <td>22319.000000</td>\n",
       "    </tr>\n",
       "    <tr>\n",
       "      <th>mean</th>\n",
       "      <td>1.467523e+14</td>\n",
       "      <td>5.652259e+06</td>\n",
       "      <td>34.317667</td>\n",
       "      <td>0.115507</td>\n",
       "      <td>0.169004</td>\n",
       "      <td>0.064071</td>\n",
       "      <td>0.030333</td>\n",
       "      <td>0.438371</td>\n",
       "    </tr>\n",
       "    <tr>\n",
       "      <th>std</th>\n",
       "      <td>2.549905e+14</td>\n",
       "      <td>7.429686e+04</td>\n",
       "      <td>21.965941</td>\n",
       "      <td>0.319640</td>\n",
       "      <td>0.374764</td>\n",
       "      <td>0.244885</td>\n",
       "      <td>0.171505</td>\n",
       "      <td>0.496198</td>\n",
       "    </tr>\n",
       "    <tr>\n",
       "      <th>min</th>\n",
       "      <td>5.628261e+06</td>\n",
       "      <td>5.122866e+06</td>\n",
       "      <td>0.000000</td>\n",
       "      <td>0.000000</td>\n",
       "      <td>0.000000</td>\n",
       "      <td>0.000000</td>\n",
       "      <td>0.000000</td>\n",
       "      <td>0.000000</td>\n",
       "    </tr>\n",
       "    <tr>\n",
       "      <th>25%</th>\n",
       "      <td>4.176779e+12</td>\n",
       "      <td>5.614192e+06</td>\n",
       "      <td>16.000000</td>\n",
       "      <td>0.000000</td>\n",
       "      <td>0.000000</td>\n",
       "      <td>0.000000</td>\n",
       "      <td>0.000000</td>\n",
       "      <td>0.000000</td>\n",
       "    </tr>\n",
       "    <tr>\n",
       "      <th>50%</th>\n",
       "      <td>3.156794e+13</td>\n",
       "      <td>5.657916e+06</td>\n",
       "      <td>33.000000</td>\n",
       "      <td>0.000000</td>\n",
       "      <td>0.000000</td>\n",
       "      <td>0.000000</td>\n",
       "      <td>0.000000</td>\n",
       "      <td>0.000000</td>\n",
       "    </tr>\n",
       "    <tr>\n",
       "      <th>75%</th>\n",
       "      <td>9.454270e+13</td>\n",
       "      <td>5.703175e+06</td>\n",
       "      <td>51.000000</td>\n",
       "      <td>0.000000</td>\n",
       "      <td>0.000000</td>\n",
       "      <td>0.000000</td>\n",
       "      <td>0.000000</td>\n",
       "      <td>1.000000</td>\n",
       "    </tr>\n",
       "    <tr>\n",
       "      <th>max</th>\n",
       "      <td>9.996585e+14</td>\n",
       "      <td>5.789986e+06</td>\n",
       "      <td>115.000000</td>\n",
       "      <td>1.000000</td>\n",
       "      <td>1.000000</td>\n",
       "      <td>1.000000</td>\n",
       "      <td>1.000000</td>\n",
       "      <td>1.000000</td>\n",
       "    </tr>\n",
       "  </tbody>\n",
       "</table>\n",
       "</div>"
      ],
      "text/plain": [
       "          PatientId  AppointmentID           Age  Bolsa_Familia_Program  \\\n",
       "count  2.231900e+04   2.231900e+04  22319.000000           22319.000000   \n",
       "mean   1.467523e+14   5.652259e+06     34.317667               0.115507   \n",
       "std    2.549905e+14   7.429686e+04     21.965941               0.319640   \n",
       "min    5.628261e+06   5.122866e+06      0.000000               0.000000   \n",
       "25%    4.176779e+12   5.614192e+06     16.000000               0.000000   \n",
       "50%    3.156794e+13   5.657916e+06     33.000000               0.000000   \n",
       "75%    9.454270e+13   5.703175e+06     51.000000               0.000000   \n",
       "max    9.996585e+14   5.789986e+06    115.000000               1.000000   \n",
       "\n",
       "       Hipertension      Diabetes    Alcoholism  SMS_received  \n",
       "count  22319.000000  22319.000000  22319.000000  22319.000000  \n",
       "mean       0.169004      0.064071      0.030333      0.438371  \n",
       "std        0.374764      0.244885      0.171505      0.496198  \n",
       "min        0.000000      0.000000      0.000000      0.000000  \n",
       "25%        0.000000      0.000000      0.000000      0.000000  \n",
       "50%        0.000000      0.000000      0.000000      0.000000  \n",
       "75%        0.000000      0.000000      0.000000      1.000000  \n",
       "max        1.000000      1.000000      1.000000      1.000000  "
      ]
     },
     "execution_count": 203,
     "metadata": {},
     "output_type": "execute_result"
    }
   ],
   "source": [
    "#statistic properties of no_showup_appointments\n",
    "no_showup_appointments.describe()"
   ]
  },
  {
   "cell_type": "code",
   "execution_count": 222,
   "metadata": {
    "scrolled": false
   },
   "outputs": [
    {
     "data": {
      "text/html": [
       "<div>\n",
       "<style scoped>\n",
       "    .dataframe tbody tr th:only-of-type {\n",
       "        vertical-align: middle;\n",
       "    }\n",
       "\n",
       "    .dataframe tbody tr th {\n",
       "        vertical-align: top;\n",
       "    }\n",
       "\n",
       "    .dataframe thead th {\n",
       "        text-align: right;\n",
       "    }\n",
       "</style>\n",
       "<table border=\"1\" class=\"dataframe\">\n",
       "  <thead>\n",
       "    <tr style=\"text-align: right;\">\n",
       "      <th></th>\n",
       "      <th>PatientId</th>\n",
       "      <th>AppointmentID</th>\n",
       "      <th>Age</th>\n",
       "      <th>Bolsa_Familia_Program</th>\n",
       "      <th>Hipertension</th>\n",
       "      <th>Diabetes</th>\n",
       "      <th>Alcoholism</th>\n",
       "      <th>SMS_received</th>\n",
       "    </tr>\n",
       "  </thead>\n",
       "  <tbody>\n",
       "    <tr>\n",
       "      <th>count</th>\n",
       "      <td>8.820800e+04</td>\n",
       "      <td>8.820800e+04</td>\n",
       "      <td>88208.000000</td>\n",
       "      <td>88208.000000</td>\n",
       "      <td>88208.000000</td>\n",
       "      <td>88208.000000</td>\n",
       "      <td>88208.000000</td>\n",
       "      <td>88208.000000</td>\n",
       "    </tr>\n",
       "    <tr>\n",
       "      <th>mean</th>\n",
       "      <td>1.476845e+14</td>\n",
       "      <td>5.681137e+06</td>\n",
       "      <td>37.790064</td>\n",
       "      <td>0.093903</td>\n",
       "      <td>0.204392</td>\n",
       "      <td>0.073837</td>\n",
       "      <td>0.030417</td>\n",
       "      <td>0.291334</td>\n",
       "    </tr>\n",
       "    <tr>\n",
       "      <th>std</th>\n",
       "      <td>2.563747e+14</td>\n",
       "      <td>6.931225e+04</td>\n",
       "      <td>23.338878</td>\n",
       "      <td>0.291695</td>\n",
       "      <td>0.403259</td>\n",
       "      <td>0.261507</td>\n",
       "      <td>0.171732</td>\n",
       "      <td>0.454380</td>\n",
       "    </tr>\n",
       "    <tr>\n",
       "      <th>min</th>\n",
       "      <td>3.921784e+04</td>\n",
       "      <td>5.030230e+06</td>\n",
       "      <td>-1.000000</td>\n",
       "      <td>0.000000</td>\n",
       "      <td>0.000000</td>\n",
       "      <td>0.000000</td>\n",
       "      <td>0.000000</td>\n",
       "      <td>0.000000</td>\n",
       "    </tr>\n",
       "    <tr>\n",
       "      <th>25%</th>\n",
       "      <td>4.168386e+12</td>\n",
       "      <td>5.646218e+06</td>\n",
       "      <td>18.000000</td>\n",
       "      <td>0.000000</td>\n",
       "      <td>0.000000</td>\n",
       "      <td>0.000000</td>\n",
       "      <td>0.000000</td>\n",
       "      <td>0.000000</td>\n",
       "    </tr>\n",
       "    <tr>\n",
       "      <th>50%</th>\n",
       "      <td>3.176184e+13</td>\n",
       "      <td>5.685684e+06</td>\n",
       "      <td>38.000000</td>\n",
       "      <td>0.000000</td>\n",
       "      <td>0.000000</td>\n",
       "      <td>0.000000</td>\n",
       "      <td>0.000000</td>\n",
       "      <td>0.000000</td>\n",
       "    </tr>\n",
       "    <tr>\n",
       "      <th>75%</th>\n",
       "      <td>9.433715e+13</td>\n",
       "      <td>5.731078e+06</td>\n",
       "      <td>56.000000</td>\n",
       "      <td>0.000000</td>\n",
       "      <td>0.000000</td>\n",
       "      <td>0.000000</td>\n",
       "      <td>0.000000</td>\n",
       "      <td>1.000000</td>\n",
       "    </tr>\n",
       "    <tr>\n",
       "      <th>max</th>\n",
       "      <td>9.999816e+14</td>\n",
       "      <td>5.790484e+06</td>\n",
       "      <td>115.000000</td>\n",
       "      <td>1.000000</td>\n",
       "      <td>1.000000</td>\n",
       "      <td>1.000000</td>\n",
       "      <td>1.000000</td>\n",
       "      <td>1.000000</td>\n",
       "    </tr>\n",
       "  </tbody>\n",
       "</table>\n",
       "</div>"
      ],
      "text/plain": [
       "          PatientId  AppointmentID           Age  Bolsa_Familia_Program  \\\n",
       "count  8.820800e+04   8.820800e+04  88208.000000           88208.000000   \n",
       "mean   1.476845e+14   5.681137e+06     37.790064               0.093903   \n",
       "std    2.563747e+14   6.931225e+04     23.338878               0.291695   \n",
       "min    3.921784e+04   5.030230e+06     -1.000000               0.000000   \n",
       "25%    4.168386e+12   5.646218e+06     18.000000               0.000000   \n",
       "50%    3.176184e+13   5.685684e+06     38.000000               0.000000   \n",
       "75%    9.433715e+13   5.731078e+06     56.000000               0.000000   \n",
       "max    9.999816e+14   5.790484e+06    115.000000               1.000000   \n",
       "\n",
       "       Hipertension      Diabetes    Alcoholism  SMS_received  \n",
       "count  88208.000000  88208.000000  88208.000000  88208.000000  \n",
       "mean       0.204392      0.073837      0.030417      0.291334  \n",
       "std        0.403259      0.261507      0.171732      0.454380  \n",
       "min        0.000000      0.000000      0.000000      0.000000  \n",
       "25%        0.000000      0.000000      0.000000      0.000000  \n",
       "50%        0.000000      0.000000      0.000000      0.000000  \n",
       "75%        0.000000      0.000000      0.000000      1.000000  \n",
       "max        1.000000      1.000000      1.000000      1.000000  "
      ]
     },
     "execution_count": 222,
     "metadata": {},
     "output_type": "execute_result"
    }
   ],
   "source": [
    "#statistic properties of showup_appointments\n",
    "showup_appointments.describe()"
   ]
  },
  {
   "cell_type": "markdown",
   "metadata": {},
   "source": [
    "From data above, \"Bolsa_Familia_Program\" and \"SMS_received\", seem to be the features that have majorly difference between the two dataset.\\\n",
    "Here below we create a function called \"create_percentage\" that we will use later for analisys.\\\n",
    "The function has three inputs: \n",
    "- \"partial_df: this is the dataframe in input. In our case be \"no_showup_appointments\" or \"showup_appointments\". \n",
    "- \"feature\": this is the characteristic that we want to focus on. In our case can be \"Alcoholism\", \"Diabetes\", \"Gender\" and so on;\n",
    "- \"value\": this is the value of the characteristic that we want to focus on. All features, except \"Gender\", have value \"1\" if the characteristic is present and \"0\" if not. In the case of \"Gender\" the two possible values will be \"F\" or \"M\".\\\n",
    "For example, the following command:\\\n",
    "`create_percentage(no_showup_appointments,'Diabetes',1)`\\\n",
    "will return the percentage of the diabetic patients that didn't showed up their appointments on the total of appointments of diabetic patients."
   ]
  },
  {
   "cell_type": "code",
   "execution_count": 223,
   "metadata": {},
   "outputs": [],
   "source": [
    "def create_percentage(partial_df, feature, value):\n",
    "    total_feature=appointments.query('{}==\"{}\"'.format(feature,value))['AppointmentID'].count()\n",
    "    partial_feature=partial_df.query('{}==\"{}\"'.format(feature, value))['AppointmentID'].count()\n",
    "\n",
    "    perc_feature = (partial_feature/total_feature)*100\n",
    "    return \"{:.2f}\".format(perc_feature)"
   ]
  },
  {
   "cell_type": "code",
   "execution_count": 25,
   "metadata": {
    "scrolled": true
   },
   "outputs": [
    {
     "data": {
      "text/plain": [
       "('20.15', '79.85')"
      ]
     },
     "execution_count": 25,
     "metadata": {},
     "output_type": "execute_result"
    }
   ],
   "source": [
    "create_percentage(no_showup_appointments,'Alcoholism',1),create_percentage(showup_appointments,'Alcoholism',1)"
   ]
  },
  {
   "cell_type": "markdown",
   "metadata": {},
   "source": [
    "As showed above, the 20,15% of the alcoholic patiens didn't show up at the appointment. But if we take a look at the patients that aren't alcoholist, we find more or less the same percentage.\n",
    "This characteristic seem not affected the fact that a person showed up or not an appointment:"
   ]
  },
  {
   "cell_type": "code",
   "execution_count": 26,
   "metadata": {},
   "outputs": [
    {
     "data": {
      "text/plain": [
       "('20.19', '79.81')"
      ]
     },
     "execution_count": 26,
     "metadata": {},
     "output_type": "execute_result"
    }
   ],
   "source": [
    "create_percentage(no_showup_appointments,'Alcoholism',0),create_percentage(showup_appointments,'Alcoholism',0)"
   ]
  },
  {
   "cell_type": "markdown",
   "metadata": {},
   "source": [
    "If we do the same with the \"Gender\", we'll find the same behavior:"
   ]
  },
  {
   "cell_type": "code",
   "execution_count": 224,
   "metadata": {},
   "outputs": [
    {
     "data": {
      "text/plain": [
       "('20.31', '79.69')"
      ]
     },
     "execution_count": 224,
     "metadata": {},
     "output_type": "execute_result"
    }
   ],
   "source": [
    "create_percentage(no_showup_appointments,'Gender','F'),create_percentage(showup_appointments,'Gender','F')"
   ]
  },
  {
   "cell_type": "code",
   "execution_count": 225,
   "metadata": {},
   "outputs": [
    {
     "data": {
      "text/plain": [
       "('19.97', '80.03')"
      ]
     },
     "execution_count": 225,
     "metadata": {},
     "output_type": "execute_result"
    }
   ],
   "source": [
    "create_percentage(no_showup_appointments,'Gender','M'),create_percentage(showup_appointments,'Gender','M')"
   ]
  },
  {
   "cell_type": "markdown",
   "metadata": {},
   "source": [
    "Let's have a look to all the other characteristics grafically:"
   ]
  },
  {
   "cell_type": "code",
   "execution_count": 211,
   "metadata": {
    "scrolled": false
   },
   "outputs": [
    {
     "data": {
      "image/png": "[encoded data removed]",
      "text/plain": [
       "<Figure size 864x288 with 8 Axes>"
      ]
     },
     "metadata": {},
     "output_type": "display_data"
    }
   ],
   "source": [
    "fig, axes = plt.subplots(2, 4, figsize=(12, 4))\n",
    "labels = 'Not Showed up', 'Showed up'\n",
    "features =['Hipertension','Diabetes','Bolsa_Familia_Program','SMS_received']\n",
    "i,j = 0,0\n",
    "for feature in features:\n",
    "    ax = axes[i, j]\n",
    "    sizes=[create_percentage(no_showup_appointments,feature,1),create_percentage(showup_appointments,feature,1)]\n",
    "    ax.pie(sizes, labels=labels,shadow=True, startangle=90, autopct='%1.0f%%')\n",
    "    ax.set_title(feature)\n",
    "    if (j!=3):\n",
    "        j+=1\n",
    "    ax = axes[i, j]\n",
    "    sizes=[create_percentage(no_showup_appointments,feature,0),create_percentage(showup_appointments,feature,0)]\n",
    "    ax.pie(sizes, labels=labels,shadow=True, startangle=90, autopct='%1.0f%%')\n",
    "    ax.set_title(\"NO \"+feature)\n",
    "    if (j!=3):\n",
    "        j+=1\n",
    "    if (j==3):\n",
    "        i+=1\n",
    "        j=0\n",
    "    \n",
    "plt.show()"
   ]
  },
  {
   "cell_type": "markdown",
   "metadata": {},
   "source": [
    "The presence or not of hypertension and diabetes, seem not to have weight on missed appointments. In the case of \"SMS_received\" we can note that despite the reception of the sms, we have the 28% of missed appointments against the 17% of missed appointments without the reception of the sms. Finally the percentage of the missed appointments are higher (24%) with people subscribed to the welfare program \"Bolsa Familia\" against the 20% for people not subscribed to this program. "
   ]
  },
  {
   "cell_type": "code",
   "execution_count": 227,
   "metadata": {},
   "outputs": [],
   "source": [
    "#we define some variables in order to analyse the \"Handcap\" characteristic.\n",
    "#we call the percentage function with the different handicap's gravity and only for missed appointments:\n",
    "prop_none= create_percentage(no_showup_appointments,'Handcap','None')\n",
    "prop_low= create_percentage(no_showup_appointments,'Handcap','Low')\n",
    "prop_medium=create_percentage(no_showup_appointments,'Handcap','Medium')\n",
    "prop_high= create_percentage(no_showup_appointments,'Handcap','High')\n",
    "prop_very_high=create_percentage(no_showup_appointments,'Handcap','Very High')"
   ]
  },
  {
   "cell_type": "code",
   "execution_count": 229,
   "metadata": {
    "scrolled": false
   },
   "outputs": [
    {
     "data": {
      "image/png": "[encoded data removed]",
      "text/plain": [
       "<Figure size 432x288 with 1 Axes>"
      ]
     },
     "metadata": {
      "needs_background": "light"
     },
     "output_type": "display_data"
    }
   ],
   "source": [
    "plt.bar([ \"None\", \"Low\",\"Medium\",\"High\",\"Very High\"], [prop_none, prop_low, prop_medium, prop_high, prop_very_high])\n",
    "plt.title(\"Missed appointment based on handicap's gravity\")\n",
    "plt.xlabel(\"Handcap gravity\")\n",
    "plt.ylabel(\"% of missed appointments\");"
   ]
  },
  {
   "cell_type": "markdown",
   "metadata": {},
   "source": [
    "### Question 2 : The number of days between the day in which the appointment is fixed and the day of the appointment, can have an influence on fact that the patient showed up or not his appointment?"
   ]
  },
  {
   "cell_type": "code",
   "execution_count": 235,
   "metadata": {
    "scrolled": false
   },
   "outputs": [
    {
     "data": {
      "image/png": "[encoded data removed]",
      "text/plain": [
       "<Figure size 1200x320 with 2 Axes>"
      ]
     },
     "metadata": {},
     "output_type": "display_data"
    }
   ],
   "source": [
    "days_no_showup=(no_showup_appointments['AppointmentDay']-no_showup_appointments['ScheduledDay'])/np.timedelta64(1,'D')\n",
    "days_showup=(showup_appointments['AppointmentDay']-showup_appointments['ScheduledDay'])/np.timedelta64(1,'D')\n",
    "\n",
    "fig=plt.figure(figsize=(15,4), dpi= 80, facecolor='w', edgecolor='k')\n",
    "plt.subplot(1, 2, 1)\n",
    "days_no_showup.hist(alpha=0.5,color='violet',label=\"Patient didn't showed up the appointment\")\n",
    "plt.xlabel(\"Number of days between the day in which the appointment is fixed and the appointment\")\n",
    "plt.ylabel(\"Missed appointments\")\n",
    "plt.legend();\n",
    "\n",
    "plt.subplot(1, 2, 2)\n",
    "days_showup.hist(alpha=0.5,color='orange',label=\"Patient showed up the appointment\")\n",
    "plt.xlabel(\"Number of days between the day in which the appointment is fixed and the appointment\")\n",
    "plt.ylabel(\"NOT Missed appointments\")\n",
    "plt.legend();"
   ]
  },
  {
   "cell_type": "code",
   "execution_count": 236,
   "metadata": {},
   "outputs": [
    {
     "data": {
      "text/plain": [
       "(15.345543968517106, 8.289423895765523)"
      ]
     },
     "execution_count": 236,
     "metadata": {},
     "output_type": "execute_result"
    }
   ],
   "source": [
    "days_no_showup.mean(), days_showup.mean()"
   ]
  },
  {
   "cell_type": "markdown",
   "metadata": {},
   "source": [
    "The mean of the difference between the day in which the appointment is fixed and the day of the appointment, is of about 15 days for missed appointments and 8 days for not missed appointments."
   ]
  },
  {
   "cell_type": "markdown",
   "metadata": {},
   "source": [
    "### Question 3: Are there location of the hospital that majorly involved on the missing appointments?"
   ]
  },
  {
   "cell_type": "markdown",
   "metadata": {},
   "source": [
    "Number of total locations:"
   ]
  },
  {
   "cell_type": "code",
   "execution_count": 237,
   "metadata": {
    "scrolled": true
   },
   "outputs": [
    {
     "data": {
      "text/plain": [
       "81"
      ]
     },
     "execution_count": 237,
     "metadata": {},
     "output_type": "execute_result"
    }
   ],
   "source": [
    "len(appointments['Neighbourhood'].unique())"
   ]
  },
  {
   "cell_type": "markdown",
   "metadata": {},
   "source": [
    "Locations with more that 1000 missed appointments:"
   ]
  },
  {
   "cell_type": "code",
   "execution_count": 240,
   "metadata": {},
   "outputs": [
    {
     "data": {
      "text/plain": [
       "Neighbourhood\n",
       "JARDIM CAMBURI    1465\n",
       "MARIA ORTIZ       1219\n",
       "Name: No_show, dtype: int64"
      ]
     },
     "execution_count": 240,
     "metadata": {},
     "output_type": "execute_result"
    }
   ],
   "source": [
    "count_loc= no_showup_appointments.groupby('Neighbourhood')['No_show'].size()\n",
    "count_loc[count_loc > 1000]"
   ]
  },
  {
   "cell_type": "markdown",
   "metadata": {},
   "source": [
    "It could be that this location have a big number of appointments. We consider the percentage of the missed appointments over the total appoitments for all the locations:"
   ]
  },
  {
   "cell_type": "code",
   "execution_count": 242,
   "metadata": {
    "scrolled": true
   },
   "outputs": [
    {
     "data": {
      "text/plain": [
       "count    20.799451\n",
       "dtype: float64"
      ]
     },
     "execution_count": 242,
     "metadata": {},
     "output_type": "execute_result"
    }
   ],
   "source": [
    "count_loc_tot= appointments.groupby('Neighbourhood')['No_show'].size()\n",
    "percentage_loc=(count_loc/count_loc_tot)*100\n",
    "new_percentage= percentage_loc.to_frame(name = 'count').reset_index()\n",
    "new_percentage['count']=new_percentage['count'].astype(float)\n",
    "new_percentage.mean()"
   ]
  },
  {
   "cell_type": "markdown",
   "metadata": {},
   "source": [
    "The mean of missed appointments per location is about 20%. In the following table we consider the locations that are above this mean (for example the 26%) plus the two locations found above: \"JARDIM CAMBURI\",\"MARIA ORTIZ\". "
   ]
  },
  {
   "cell_type": "code",
   "execution_count": 243,
   "metadata": {
    "scrolled": true
   },
   "outputs": [
    {
     "data": {
      "text/html": [
       "<div>\n",
       "<style scoped>\n",
       "    .dataframe tbody tr th:only-of-type {\n",
       "        vertical-align: middle;\n",
       "    }\n",
       "\n",
       "    .dataframe tbody tr th {\n",
       "        vertical-align: top;\n",
       "    }\n",
       "\n",
       "    .dataframe thead th {\n",
       "        text-align: right;\n",
       "    }\n",
       "</style>\n",
       "<table border=\"1\" class=\"dataframe\">\n",
       "  <thead>\n",
       "    <tr style=\"text-align: right;\">\n",
       "      <th></th>\n",
       "      <th>Neighbourhood</th>\n",
       "      <th>count</th>\n",
       "    </tr>\n",
       "  </thead>\n",
       "  <tbody>\n",
       "    <tr>\n",
       "      <th>34</th>\n",
       "      <td>ILHAS OCEÂNICAS DE TRINDADE</td>\n",
       "      <td>100.000000</td>\n",
       "    </tr>\n",
       "    <tr>\n",
       "      <th>36</th>\n",
       "      <td>ITARARÉ</td>\n",
       "      <td>26.266363</td>\n",
       "    </tr>\n",
       "    <tr>\n",
       "      <th>38</th>\n",
       "      <td>JARDIM CAMBURI</td>\n",
       "      <td>18.984061</td>\n",
       "    </tr>\n",
       "    <tr>\n",
       "      <th>43</th>\n",
       "      <td>MARIA ORTIZ</td>\n",
       "      <td>20.999139</td>\n",
       "    </tr>\n",
       "    <tr>\n",
       "      <th>61</th>\n",
       "      <td>SANTA CECÍLIA</td>\n",
       "      <td>27.455357</td>\n",
       "    </tr>\n",
       "    <tr>\n",
       "      <th>62</th>\n",
       "      <td>SANTA CLARA</td>\n",
       "      <td>26.482213</td>\n",
       "    </tr>\n",
       "    <tr>\n",
       "      <th>70</th>\n",
       "      <td>SANTOS DUMONT</td>\n",
       "      <td>28.918495</td>\n",
       "    </tr>\n",
       "  </tbody>\n",
       "</table>\n",
       "</div>"
      ],
      "text/plain": [
       "                  Neighbourhood       count\n",
       "34  ILHAS OCEÂNICAS DE TRINDADE  100.000000\n",
       "36                      ITARARÉ   26.266363\n",
       "38               JARDIM CAMBURI   18.984061\n",
       "43                  MARIA ORTIZ   20.999139\n",
       "61                SANTA CECÍLIA   27.455357\n",
       "62                  SANTA CLARA   26.482213\n",
       "70                SANTOS DUMONT   28.918495"
      ]
     },
     "execution_count": 243,
     "metadata": {},
     "output_type": "execute_result"
    }
   ],
   "source": [
    "new_percentage.query('count>=26 or Neighbourhood in (\"JARDIM CAMBURI\",\"MARIA ORTIZ\")')"
   ]
  },
  {
   "cell_type": "markdown",
   "metadata": {},
   "source": [
    "The two lacations \"JARDIM CAMBURI\",\"MARIA ORTIZ\" have missed appointments near to the mean of the missed appointments of other locations. As regards the other locations of the table above, the first one is not a good sample of information because it has only two total appointments:"
   ]
  },
  {
   "cell_type": "code",
   "execution_count": 252,
   "metadata": {
    "scrolled": true
   },
   "outputs": [
    {
     "data": {
      "text/html": [
       "<div>\n",
       "<style scoped>\n",
       "    .dataframe tbody tr th:only-of-type {\n",
       "        vertical-align: middle;\n",
       "    }\n",
       "\n",
       "    .dataframe tbody tr th {\n",
       "        vertical-align: top;\n",
       "    }\n",
       "\n",
       "    .dataframe thead th {\n",
       "        text-align: right;\n",
       "    }\n",
       "</style>\n",
       "<table border=\"1\" class=\"dataframe\">\n",
       "  <thead>\n",
       "    <tr style=\"text-align: right;\">\n",
       "      <th></th>\n",
       "      <th>PatientId</th>\n",
       "      <th>AppointmentID</th>\n",
       "      <th>Gender</th>\n",
       "      <th>ScheduledDay</th>\n",
       "      <th>AppointmentDay</th>\n",
       "      <th>Age</th>\n",
       "      <th>Neighbourhood</th>\n",
       "      <th>Bolsa_Familia_Program</th>\n",
       "      <th>Hipertension</th>\n",
       "      <th>Diabetes</th>\n",
       "      <th>Alcoholism</th>\n",
       "      <th>Handcap</th>\n",
       "      <th>SMS_received</th>\n",
       "      <th>No_show</th>\n",
       "    </tr>\n",
       "  </thead>\n",
       "  <tbody>\n",
       "    <tr>\n",
       "      <th>48754</th>\n",
       "      <td>5.349869e+11</td>\n",
       "      <td>5583947</td>\n",
       "      <td>F</td>\n",
       "      <td>2016-04-14 12:25:43+00:00</td>\n",
       "      <td>2016-05-13 00:00:00+00:00</td>\n",
       "      <td>51</td>\n",
       "      <td>ILHAS OCEÂNICAS DE TRINDADE</td>\n",
       "      <td>0</td>\n",
       "      <td>0</td>\n",
       "      <td>0</td>\n",
       "      <td>0</td>\n",
       "      <td>None</td>\n",
       "      <td>0</td>\n",
       "      <td>Not Showed up</td>\n",
       "    </tr>\n",
       "    <tr>\n",
       "      <th>48765</th>\n",
       "      <td>7.256430e+12</td>\n",
       "      <td>5583948</td>\n",
       "      <td>F</td>\n",
       "      <td>2016-04-14 12:26:13+00:00</td>\n",
       "      <td>2016-05-13 00:00:00+00:00</td>\n",
       "      <td>58</td>\n",
       "      <td>ILHAS OCEÂNICAS DE TRINDADE</td>\n",
       "      <td>0</td>\n",
       "      <td>0</td>\n",
       "      <td>0</td>\n",
       "      <td>0</td>\n",
       "      <td>None</td>\n",
       "      <td>0</td>\n",
       "      <td>Not Showed up</td>\n",
       "    </tr>\n",
       "  </tbody>\n",
       "</table>\n",
       "</div>"
      ],
      "text/plain": [
       "          PatientId  AppointmentID Gender              ScheduledDay  \\\n",
       "48754  5.349869e+11        5583947      F 2016-04-14 12:25:43+00:00   \n",
       "48765  7.256430e+12        5583948      F 2016-04-14 12:26:13+00:00   \n",
       "\n",
       "                 AppointmentDay  Age                Neighbourhood  \\\n",
       "48754 2016-05-13 00:00:00+00:00   51  ILHAS OCEÂNICAS DE TRINDADE   \n",
       "48765 2016-05-13 00:00:00+00:00   58  ILHAS OCEÂNICAS DE TRINDADE   \n",
       "\n",
       "       Bolsa_Familia_Program  Hipertension  Diabetes  Alcoholism Handcap  \\\n",
       "48754                      0             0         0           0    None   \n",
       "48765                      0             0         0           0    None   \n",
       "\n",
       "       SMS_received        No_show  \n",
       "48754             0  Not Showed up  \n",
       "48765             0  Not Showed up  "
      ]
     },
     "execution_count": 252,
     "metadata": {},
     "output_type": "execute_result"
    }
   ],
   "source": [
    "appointments.query('Neighbourhood in (\"ILHAS OCEÂNICAS DE TRINDADE\")')"
   ]
  },
  {
   "cell_type": "markdown",
   "metadata": {},
   "source": [
    "<a id='conclusions'></a>\n",
    "## Conclusions\n",
    "\n",
    "From the investigation of the dataset, we saw that different characteristics seem not to be related to the missed appointments: hypertension, diabet, alcoholism and and gender.\\\n",
    "In the case of \"SMS_received\" we can note that, despite the reception of the sms, we have the 28% of missed appointments against the 17% of missed appointments without the reception of the sms.\\\n",
    "The percentage of the missed appointments are higher (24%) with people subscribed to the welfare program \"Bolsa Familia\" against the 20% for people not subscribed to this program.\\\n",
    "The mean of the difference between the day in which the appointment is fixed, and the day of the appointment, is about 15 days for missed appointments and 8 days for not missed appointments.\\\n",
    "The locations with the percentage of missed appointments over the mean are: \"ITARARÉ\", \"SANTA CECÍLIA\", \"SANTA CLARA\" and \"SANTOS DUMONT\""
   ]
  }
 ],
 "metadata": {
  "kernelspec": {
   "display_name": "Python 3",
   "language": "python",
   "name": "python3"
  },
  "language_info": {
   "codemirror_mode": {
    "name": "ipython",
    "version": 3
   },
   "file_extension": ".py",
   "mimetype": "text/x-python",
   "name": "python",
   "nbconvert_exporter": "python",
   "pygments_lexer": "ipython3",
   "version": "3.9.1"
  }
 },
 "nbformat": 4,
 "nbformat_minor": 2
}
